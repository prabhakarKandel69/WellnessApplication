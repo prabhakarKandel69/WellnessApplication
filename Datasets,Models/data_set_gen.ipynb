{
 "cells": [
  {
   "cell_type": "code",
   "execution_count": 2,
   "id": "33fb8192-955f-4c2c-a08f-2f154a64e90c",
   "metadata": {},
   "outputs": [],
   "source": [
    "import numpy as np\n",
    "import pandas as pd\n",
    "import random\n"
   ]
  },
  {
   "cell_type": "code",
   "execution_count": 6,
   "id": "25d1e02e-290b-428c-a6f4-e1c6dcaa43c4",
   "metadata": {},
   "outputs": [],
   "source": [
    "np.random.seed(42)\n",
    "n = 1000"
   ]
  },
  {
   "cell_type": "code",
   "execution_count": 10,
   "id": "19f42905-e11e-4e27-889b-71b03db06e4e",
   "metadata": {},
   "outputs": [],
   "source": [
    "age = np.random.randint(18,65,n)\n",
    "gender = np.random.choice(['Male','Female'],n)\n",
    "height = np.round(np.random.uniform(1.5,1.9,n),2)\n",
    "weight = np.round(np.random.uniform(45,110,n),1)\n",
    "bmi = np.round(weight / (height **2),1)\n",
    "gad7 = np.random.randint(0,22,n)\n",
    "stress = np.random.randint(1,11,n)\n",
    "activity = np.random.randint(0,8,n)\n",
    "goal = np.random.choice(['reduce stress','lose weight','increase mindfulness','imporve fitness'],n)\n",
    "workout_goal = np.random.randint(1,8,n)\n",
    "importance_stress = np.random.randint(1,6,n)\n",
    "engagement = np.round(np.random.uniform(0.0,1.0,n),2)\n",
    "\n",
    "def assign_segment(gad7, activity, bmi,engagement):\n",
    "    if gad7>10 and activity <=2:\n",
    "        return 'HighAnx_LowAct'\n",
    "    elif 5 <= gad7 <=10 and 3 <= activity <= 5:\n",
    "        return 'ModAnx_ModAct'\n",
    "    elif gad7 < 5 and activity >=6:\n",
    "        return 'LowAnx_HighAct'\n",
    "    elif bmi > 30:\n",
    "        return 'PhysRisk'\n",
    "    elif 3 <= gad7 <= 7 and 18.5 <= bmi <= 24.9 and 3 <= activity <= 5:\n",
    "        return 'Wellness seeker'\n",
    "    elif engagement < 0.2 or activity <= 1:\n",
    "        return 'Inactive'\n",
    "    else:\n",
    "        return 'Wellness'\n",
    "\n",
    "\n",
    "        "
   ]
  },
  {
   "cell_type": "code",
   "execution_count": 12,
   "id": "ae24204d-c522-4627-83ce-26c9a6ecef5b",
   "metadata": {},
   "outputs": [],
   "source": [
    "segment_label = [\n",
    "    assign_segment(g,a,b,e) for g,a,b,e in zip(gad7,activity,bmi,engagement)\n",
    "]"
   ]
  },
  {
   "cell_type": "code",
   "execution_count": 14,
   "id": "e09c0109-84f8-403f-a4cd-2bdb6ca0e345",
   "metadata": {},
   "outputs": [],
   "source": [
    "df = pd.DataFrame({\n",
    "    'age':age,\n",
    "    'gender':gender,\n",
    "    'height':height,\n",
    "    'weight':weight,\n",
    "    'bmi':bmi,\n",
    "    'gad7_score':gad7,\n",
    "    'self_reported_stress':stress,\n",
    "    'physical_activity_per_week':activity,\n",
    "    'primary_goal': goal,\n",
    "    'workout_goal_days':workout_goal,\n",
    "    'importance_stress_reduction':importance_stress,\n",
    "    'engagement':engagement,\n",
    "    'segment_label':segment_label\n",
    "})"
   ]
  },
  {
   "cell_type": "code",
   "execution_count": 16,
   "id": "9dba1426-534b-4e80-9873-61aafdbea602",
   "metadata": {},
   "outputs": [],
   "source": [
    "df.to_csv('health_data.csv',index=False)"
   ]
  },
  {
   "cell_type": "code",
   "execution_count": null,
   "id": "a0b994ce-1bef-4e80-9b7b-1f01c411a5a1",
   "metadata": {},
   "outputs": [],
   "source": []
  },
  {
   "cell_type": "code",
   "execution_count": null,
   "id": "df6b9698-bc47-49a3-9eb6-eeb03484dd4c",
   "metadata": {},
   "outputs": [],
   "source": []
  }
 ],
 "metadata": {
  "kernelspec": {
   "display_name": "Python 3 (ipykernel)",
   "language": "python",
   "name": "python3"
  },
  "language_info": {
   "codemirror_mode": {
    "name": "ipython",
    "version": 3
   },
   "file_extension": ".py",
   "mimetype": "text/x-python",
   "name": "python",
   "nbconvert_exporter": "python",
   "pygments_lexer": "ipython3",
   "version": "3.12.4"
  }
 },
 "nbformat": 4,
 "nbformat_minor": 5
}
